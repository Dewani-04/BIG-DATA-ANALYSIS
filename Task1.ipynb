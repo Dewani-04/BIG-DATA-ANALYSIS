{
  "nbformat": 4,
  "nbformat_minor": 0,
  "metadata": {
    "colab": {
      "provenance": []
    },
    "kernelspec": {
      "name": "python3",
      "display_name": "Python 3"
    },
    "language_info": {
      "name": "python"
    }
  },
  "cells": [
    {
      "cell_type": "code",
      "execution_count": null,
      "metadata": {
        "colab": {
          "base_uri": "https://localhost:8080/"
        },
        "id": "IMlgKa6pRJEY",
        "outputId": "a6bb1611-1c8a-4751-ef20-7379199ab088"
      },
      "outputs": [
        {
          "output_type": "stream",
          "name": "stdout",
          "text": [
            "Requirement already satisfied: pyspark in /usr/local/lib/python3.11/dist-packages (3.5.1)\n",
            "Requirement already satisfied: py4j==0.10.9.7 in /usr/local/lib/python3.11/dist-packages (from pyspark) (0.10.9.7)\n"
          ]
        }
      ],
      "source": [
        "!pip install pyspark"
      ]
    },
    {
      "cell_type": "code",
      "source": [
        "from pyspark.sql import SparkSession"
      ],
      "metadata": {
        "id": "VbM3efJhp0Ib"
      },
      "execution_count": null,
      "outputs": []
    },
    {
      "cell_type": "code",
      "source": [
        "spark = SparkSession.builder \\\n",
        "    .appName(\"Big Data Analysis\") \\\n",
        "    .getOrCreate()"
      ],
      "metadata": {
        "id": "gdHc_t7wq_kS"
      },
      "execution_count": null,
      "outputs": []
    },
    {
      "cell_type": "code",
      "source": [
        "spark"
      ],
      "metadata": {
        "colab": {
          "base_uri": "https://localhost:8080/",
          "height": 222
        },
        "id": "zv3giYI9rOn_",
        "outputId": "0541fc5a-4988-44f9-a982-b04b9ccedd85"
      },
      "execution_count": null,
      "outputs": [
        {
          "output_type": "execute_result",
          "data": {
            "text/plain": [
              "<pyspark.sql.session.SparkSession at 0x7be8667c7710>"
            ],
            "text/html": [
              "\n",
              "            <div>\n",
              "                <p><b>SparkSession - in-memory</b></p>\n",
              "                \n",
              "        <div>\n",
              "            <p><b>SparkContext</b></p>\n",
              "\n",
              "            <p><a href=\"http://3c0dfff06214:4040\">Spark UI</a></p>\n",
              "\n",
              "            <dl>\n",
              "              <dt>Version</dt>\n",
              "                <dd><code>v3.5.1</code></dd>\n",
              "              <dt>Master</dt>\n",
              "                <dd><code>local[*]</code></dd>\n",
              "              <dt>AppName</dt>\n",
              "                <dd><code>Big Data Analysis</code></dd>\n",
              "            </dl>\n",
              "        </div>\n",
              "        \n",
              "            </div>\n",
              "        "
            ]
          },
          "metadata": {},
          "execution_count": 4
        }
      ]
    },
    {
      "cell_type": "code",
      "source": [
        "df = spark.read.csv(\"/Nvidia_stock_data.csv\", header=True, inferSchema=True)"
      ],
      "metadata": {
        "id": "dy3QQNO6rlka"
      },
      "execution_count": null,
      "outputs": []
    },
    {
      "cell_type": "code",
      "source": [
        "df.printSchema()"
      ],
      "metadata": {
        "colab": {
          "base_uri": "https://localhost:8080/"
        },
        "id": "JzzNSkbtt3hD",
        "outputId": "5e8fc7ad-ff00-46aa-95fe-deea21b2ac97"
      },
      "execution_count": null,
      "outputs": [
        {
          "output_type": "stream",
          "name": "stdout",
          "text": [
            "root\n",
            " |-- Date: date (nullable = true)\n",
            " |-- Close: double (nullable = true)\n",
            " |-- High: double (nullable = true)\n",
            " |-- Low: double (nullable = true)\n",
            " |-- Open: double (nullable = true)\n",
            " |-- Volume: long (nullable = true)\n",
            "\n"
          ]
        }
      ]
    },
    {
      "cell_type": "code",
      "source": [
        "df.show(5)"
      ],
      "metadata": {
        "colab": {
          "base_uri": "https://localhost:8080/"
        },
        "id": "hCb0BsWNuCGr",
        "outputId": "43c63627-93dd-4b91-f6f5-fbea59923f4f"
      },
      "execution_count": null,
      "outputs": [
        {
          "output_type": "stream",
          "name": "stdout",
          "text": [
            "+----------+-------------------+--------------------+--------------------+-------------------+----------+\n",
            "|      Date|              Close|                High|                 Low|               Open|    Volume|\n",
            "+----------+-------------------+--------------------+--------------------+-------------------+----------+\n",
            "|1999-01-22| 0.0376117005944252| 0.04477530714919751|  0.0355814614532041| 0.0401187785903406|2714688000|\n",
            "|1999-01-25|0.04155205562710762| 0.04202889452409068|0.037611703930043774| 0.0405965399745699| 510480000|\n",
            "|1999-01-26|0.03832788020372391| 0.04286519762474585|0.037730910960754434| 0.0420288934263442| 343200000|\n",
            "|1999-01-27|0.03820867836475372|0.039402613734271244|0.036297650046026496|0.03844709786686024| 244368000|\n",
            "|1999-01-28|0.03808854520320892|  0.0384470916195532| 0.03785012573984342| 0.0382086721561877| 227520000|\n",
            "+----------+-------------------+--------------------+--------------------+-------------------+----------+\n",
            "only showing top 5 rows\n",
            "\n"
          ]
        }
      ]
    },
    {
      "cell_type": "code",
      "source": [
        "from pyspark.sql.functions import col, to_date"
      ],
      "metadata": {
        "id": "HlRp2NrBuWVk"
      },
      "execution_count": null,
      "outputs": []
    },
    {
      "cell_type": "code",
      "source": [
        "df_clean = df.dropna()"
      ],
      "metadata": {
        "id": "I66kiktnvRlk"
      },
      "execution_count": null,
      "outputs": []
    },
    {
      "cell_type": "code",
      "source": [
        "df_clean = df_clean.withColumn(\"Date\", to_date(col(\"Date\"), \"yyyy-MM-dd\"))"
      ],
      "metadata": {
        "id": "m8818JjwvXUL"
      },
      "execution_count": null,
      "outputs": []
    },
    {
      "cell_type": "code",
      "source": [
        "df_clean = df_clean.filter((col(\"Open\") > 0) & (col(\"Close\") > 0))"
      ],
      "metadata": {
        "id": "J9dQchW2vd9g"
      },
      "execution_count": null,
      "outputs": []
    },
    {
      "cell_type": "code",
      "source": [
        "from pyspark.sql.functions import year, avg"
      ],
      "metadata": {
        "id": "68wswcQ9vhu6"
      },
      "execution_count": null,
      "outputs": []
    },
    {
      "cell_type": "code",
      "source": [
        "df_year = df_clean.withColumn(\"Year\", year(\"Date\"))"
      ],
      "metadata": {
        "id": "yXiCAfMXvmce"
      },
      "execution_count": null,
      "outputs": []
    },
    {
      "cell_type": "markdown",
      "source": [
        "The average closing price increased steadily from 2015 to 2024, showing long-term growth."
      ],
      "metadata": {
        "id": "pjna5ySsxP0e"
      }
    },
    {
      "cell_type": "code",
      "source": [
        "avg_close_per_year = df_year.groupBy(\"Year\").agg(avg(\"Close\").alias(\"Avg_Close\"))\n",
        "avg_close_per_year.orderBy(\"Year\").show()"
      ],
      "metadata": {
        "colab": {
          "base_uri": "https://localhost:8080/"
        },
        "id": "gMXJXaMOvqGC",
        "outputId": "1332db28-5b94-4292-c2a5-79712f911862"
      },
      "execution_count": null,
      "outputs": [
        {
          "output_type": "stream",
          "name": "stdout",
          "text": [
            "+----+-------------------+\n",
            "|Year|          Avg_Close|\n",
            "+----+-------------------+\n",
            "|1999|0.04464028881683509|\n",
            "|2000|0.20125482973480036|\n",
            "|2001| 0.3021873741320545|\n",
            "|2002|0.22041832074700368|\n",
            "|2003|  0.135265484540945|\n",
            "|2004|0.14823118127172902|\n",
            "|2005|0.21810457275973427|\n",
            "|2006| 0.4148503418462685|\n",
            "|2007| 0.6355856994233758|\n",
            "|2008|  0.365553506631625|\n",
            "|2009|0.27168152298009585|\n",
            "|2010|0.31093606707595645|\n",
            "|2011| 0.3871472149141251|\n",
            "|2012| 0.3098707118034363|\n",
            "|2013|0.33113036103664883|\n",
            "|2014|0.44131002350459025|\n",
            "|2015| 0.5743131867003819|\n",
            "|2016| 1.3202410536626028|\n",
            "|2017|  3.698291811810072|\n",
            "|2018|  5.752786912766111|\n",
            "+----+-------------------+\n",
            "only showing top 20 rows\n",
            "\n"
          ]
        }
      ]
    },
    {
      "cell_type": "code",
      "source": [
        "from pyspark.sql.functions import max"
      ],
      "metadata": {
        "id": "yQwgMgcavy21"
      },
      "execution_count": null,
      "outputs": []
    },
    {
      "cell_type": "markdown",
      "source": [
        "The highest stock price recorded was around $XXX (from data)."
      ],
      "metadata": {
        "id": "Oe7U3jMdxmJK"
      }
    },
    {
      "cell_type": "code",
      "source": [
        "df_clean.select(max(\"High\").alias(\"Max_High\")).show()"
      ],
      "metadata": {
        "colab": {
          "base_uri": "https://localhost:8080/"
        },
        "id": "6WfkSBTfv30c",
        "outputId": "f4e69c67-e816-4291-c3d0-ce873f076296"
      },
      "execution_count": null,
      "outputs": [
        {
          "output_type": "stream",
          "name": "stdout",
          "text": [
            "+-----------------+\n",
            "|         Max_High|\n",
            "+-----------------+\n",
            "|153.1159160516902|\n",
            "+-----------------+\n",
            "\n"
          ]
        }
      ]
    },
    {
      "cell_type": "code",
      "source": [
        "from pyspark.sql.functions import min"
      ],
      "metadata": {
        "id": "lQuJH1eFv7hS"
      },
      "execution_count": null,
      "outputs": []
    },
    {
      "cell_type": "markdown",
      "source": [
        "The lowest price occurred during year, likely due to a market dip or correction."
      ],
      "metadata": {
        "id": "LLMQPIU6xyww"
      }
    },
    {
      "cell_type": "code",
      "source": [
        "df_clean.select(min(\"Low\").alias(\"Min_Low\")).show()"
      ],
      "metadata": {
        "colab": {
          "base_uri": "https://localhost:8080/"
        },
        "id": "H4PMavc2v_2e",
        "outputId": "c07b1f94-59da-4fce-e2a0-cf05e514ebec"
      },
      "execution_count": null,
      "outputs": [
        {
          "output_type": "stream",
          "name": "stdout",
          "text": [
            "+-------------------+\n",
            "|            Min_Low|\n",
            "+-------------------+\n",
            "|0.03056639396481849|\n",
            "+-------------------+\n",
            "\n"
          ]
        }
      ]
    },
    {
      "cell_type": "code",
      "source": [
        "total_volume_per_year = df_year.groupBy(\"Year\").sum(\"Volume\").orderBy(\"Year\")\n",
        "total_volume_per_year.show()\n"
      ],
      "metadata": {
        "colab": {
          "base_uri": "https://localhost:8080/"
        },
        "id": "LeZSaJCtwEKb",
        "outputId": "8b7d81f1-f7cc-4b7e-fb7b-b5ba39c8089c"
      },
      "execution_count": null,
      "outputs": [
        {
          "output_type": "stream",
          "name": "stdout",
          "text": [
            "+----+------------+\n",
            "|Year| sum(Volume)|\n",
            "+----+------------+\n",
            "|1999| 61501584000|\n",
            "|2000|111301512000|\n",
            "|2001|276012828000|\n",
            "|2002|319400388000|\n",
            "|2003|244966200000|\n",
            "|2004|171998196000|\n",
            "|2005|155516772000|\n",
            "|2006|154058556000|\n",
            "|2007|152062186000|\n",
            "|2008|204699404000|\n",
            "|2009|193517952000|\n",
            "|2010|186812132000|\n",
            "|2011|230766636000|\n",
            "|2012|120775680000|\n",
            "|2013| 89147376000|\n",
            "|2014| 71556936000|\n",
            "|2015| 78187564000|\n",
            "|2016|111598604000|\n",
            "|2017|172152468000|\n",
            "|2018|137569608000|\n",
            "+----+------------+\n",
            "only showing top 20 rows\n",
            "\n"
          ]
        }
      ]
    },
    {
      "cell_type": "code",
      "source": [
        "import matplotlib.pyplot as plt"
      ],
      "metadata": {
        "id": "MZR4QSSRwMRr"
      },
      "execution_count": null,
      "outputs": []
    },
    {
      "cell_type": "code",
      "source": [
        "avg_close_pd = avg_close_per_year.toPandas()\n",
        "avg_close_pd.plot(kind='line', x='Year', y='Avg_Close', title='Average Closing Price Per Year')\n",
        "plt.grid()\n",
        "plt.show()"
      ],
      "metadata": {
        "colab": {
          "base_uri": "https://localhost:8080/",
          "height": 472
        },
        "id": "RVQSlA5jwRN0",
        "outputId": "468fc85a-de76-4880-a74b-f0376b62af33"
      },
      "execution_count": null,
      "outputs": [
        {
          "output_type": "display_data",
          "data": {
            "text/plain": [
              "<Figure size 640x480 with 1 Axes>"
            ],
            "image/png": "[encoded data removed]"
          },
          "metadata": {}
        }
      ]
    },
    {
      "cell_type": "markdown",
      "source": [
        "The trading volume peaked in 2002, possibly indicating high investor activity during major events."
      ],
      "metadata": {
        "id": "xhoBWFcOy2Bi"
      }
    },
    {
      "cell_type": "code",
      "source": [
        "volume_pd = total_volume_per_year.toPandas()\n",
        "volume_pd.plot(kind='bar', x='Year', y='sum(Volume)', title='Total Volume Per Year')\n",
        "plt.ylabel(\"Volume\")\n",
        "plt.show()"
      ],
      "metadata": {
        "colab": {
          "base_uri": "https://localhost:8080/",
          "height": 493
        },
        "id": "-yVVXGy0wU4E",
        "outputId": "4146be99-80ae-462f-97fe-82f70511d4bc"
      },
      "execution_count": null,
      "outputs": [
        {
          "output_type": "display_data",
          "data": {
            "text/plain": [
              "<Figure size 640x480 with 1 Axes>"
            ],
            "image/png": "[encoded data removed]"
          },
          "metadata": {}
        }
      ]
    },
    {
      "cell_type": "code",
      "source": [],
      "metadata": {
        "id": "JYn6fRxowczA"
      },
      "execution_count": null,
      "outputs": []
    }
  ]
}